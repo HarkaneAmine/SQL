{
 "cells": [
  {
   "cell_type": "markdown",
   "id": "17733a2f-adee-4db5-a556-944ab9be8eb5",
   "metadata": {},
   "source": [
    "# Project: Data Warehouse Implementation & Analytics in Microsoft Fabric"
   ]
  },
  {
   "cell_type": "markdown",
   "id": "62d977c1-7f85-408a-86ed-11320f455b29",
   "metadata": {
    "nteract": {
     "transient": {
      "deleting": false
     }
    }
   },
   "source": [
    "## 1. Project Overview\n",
    "\n",
    "As our business grows, we need a structured way to store, process, and analyze sales data. Currently, we lack a centralized data solution, making it difficult to track key business metrics, optimize performance, and generate insightful reports.\n",
    "\n",
    "We need a **data warehouse** that integrates well with **Microsoft Fabric** and allows us to:\n",
    "- Ingest sales data from external sources.\n",
    "- Organize and structure the data efficiently.\n",
    "- Ensure fast and accurate reporting on sales performance.\n",
    "- Provide clear visibility into customer behavior, product performance, and revenue trends."
   ]
  },
  {
   "cell_type": "markdown",
   "id": "191f1fdf-1a60-4091-af3d-622554d5d53b",
   "metadata": {
    "microsoft": {
     "language": "sql",
     "language_group": "sqldatawarehouse"
    },
    "nteract": {
     "transient": {
      "deleting": false
     }
    }
   },
   "source": [
    "## 2. Project Implementation Summary\n",
    "\n",
    "### 2.1 Data Lakehouse Creation\n",
    "\n",
    "1. **Create a new workspace**: I created a new workspace named `sales_ws` to group the data warehouse, lakehouse, and other components related to our project.\n",
    "2. **Create a lakehouse**: I created a lakehouse named `sales_dlh` to store our `sales.csv` file and the staging table `sales_stg`.\n",
    "3. **Upload data**: I uploaded the `sales.csv` file to the lakehouse and created a staging table (`sales_stg`) that contains the raw data from the `sales.csv` file.\n",
    "\n",
    "### 2.2 Data Warehouse Creation\n",
    "\n",
    "1. **Create an empty data warehouse**: Before building our data warehouse, I created an empty one in the same workspace named `sales_dwh`.\n",
    "2. **Create a schema**: For better organization, I created a schema named `sales_schema` to group the tables related to sales.\n",
    "3. **Create dimension and fact tables**: I created the dimension and fact tables and loaded data into them.\n",
    "4. **Conduct analytical analysis**: Finally, I conducted some analytical queries and demonstrated the functionalities of the Fabric notebook in data visualization.\n"
   ]
  },
  {
   "cell_type": "markdown",
   "id": "8f61b707-048d-4cb9-8df2-722e9f6b4ff2",
   "metadata": {},
   "source": [
    "## 3. Implementation"
   ]
  },
  {
   "cell_type": "markdown",
   "id": "234060d0-cb68-4c44-a3f7-fc8943aefb0d",
   "metadata": {},
   "source": [
    "1. **<u>Schema Creation**"
   ]
  },
  {
   "cell_type": "code",
   "execution_count": 3,
   "id": "d198735a-c1de-4c68-8b70-04399bb66425",
   "metadata": {
    "microsoft": {
     "language": "sql",
     "language_group": "sqldatawarehouse"
    }
   },
   "outputs": [
    {
     "data": {
      "application/vnd.sqldw.statement-meta+json": {
       "batch_id": "fa3a64f6-9fcf-4a79-b672-a9f33b141b0b@b82418bf-3d34-4eec-8521-2ceda83c199a$2025-02-12T08:27:32.5185023Z@2e34a228-5f84-4c03-9421-698d29e64402",
       "commands": [
        {
         "$type": "ExecuteSqlTrackedCommand",
         "clientAppName": "Notebook",
         "queryMaxRows": 10000,
         "schemaOnly": false,
         "sqlScript": "-- To organize our data warehouse we will create a dedicated schema 'sales_schema' that will group the tables.\n\nif not exists( select * from sys.schemas where name = 'sales_schema')\nbegin\nexec('create schema sales_schema') -- for creating a schema after using the if not exists check, we need to pass by exec function\nend"
        }
       ],
       "created_at": "2025-02-12T08:27:32.5185023Z",
       "end_date_time_utc": "2025-02-12T08:27:33.1190023Z",
       "is_cancel": false,
       "root_activity_id": "3d57a97c-c38d-469c-895d-eadb0020b5c2",
       "session_id": "905c6439-b8f4-408b-bfcc-0b949019206a",
       "sqldw_state": "success",
       "start_date_time_utc": "2025-02-12T08:27:32.5172826Z",
       "updated_at": "2025-02-12T08:27:33.0497241Z"
      }
     },
     "metadata": {},
     "output_type": "display_data"
    },
    {
     "data": {
      "application/vnd.sqldw.statement-message+json": {
       "end_date_time_utc": "2025-02-12T08:27:33.1190023Z",
       "message_list": [
        {
         "$type": null,
         "data": null,
         "durationMilliseconds": 12,
         "exceptionMessage": null,
         "executeSqlState": "success",
         "recordsAffected": 0,
         "resultType": "queryDurationMessage",
         "schema": null
        },
        {
         "$type": null,
         "data": null,
         "exceptionMessage": null,
         "executeSqlState": "success",
         "recordsAffected": 0,
         "resultType": "shouldRefresh",
         "schema": null
        }
       ],
       "start_date_time_utc": "2025-02-12T08:27:32.5172826Z"
      }
     },
     "metadata": {},
     "output_type": "display_data"
    }
   ],
   "source": [
    "%%sql\n",
    "-- To organize our data warehouse we will create a dedicated schema 'sales_schema' that will group the tables.\n",
    "\n",
    "if not exists( select * from sys.schemas where name = 'sales_schema')\n",
    "begin\n",
    "exec('create schema sales_schema') -- for creating a schema after using the if not exists check, we need to pass by exec function\n",
    "end"
   ]
  },
  {
   "cell_type": "code",
   "execution_count": 4,
   "id": "7023883f-2b62-4027-bad9-641e6378df87",
   "metadata": {
    "microsoft": {
     "language": "sql",
     "language_group": "sqldatawarehouse"
    }
   },
   "outputs": [
    {
     "data": {
      "application/vnd.sqldw.statement-meta+json": {
       "batch_id": "fa3a64f6-9fcf-4a79-b672-a9f33b141b0b@b82418bf-3d34-4eec-8521-2ceda83c199a$2025-02-12T08:27:41.5512610Z@77b65109-90cf-4d82-a86e-4756683dc46f",
       "commands": [
        {
         "$type": "ExecuteSqlTrackedCommand",
         "clientAppName": "Notebook",
         "queryMaxRows": 10000,
         "schemaOnly": false,
         "sqlScript": "SELECT *\nFROM [sales_dwh].[INFORMATION_SCHEMA].[TABLES]"
        }
       ],
       "created_at": "2025-02-12T08:27:41.551261Z",
       "end_date_time_utc": "2025-02-12T08:27:42.1641994Z",
       "is_cancel": false,
       "root_activity_id": "2e663850-9f0e-4929-88ff-56d09ebf4599",
       "session_id": "905c6439-b8f4-408b-bfcc-0b949019206a",
       "sqldw_state": "success",
       "start_date_time_utc": "2025-02-12T08:27:41.5532405Z",
       "updated_at": "2025-02-12T08:27:42.1293745Z"
      }
     },
     "metadata": {},
     "output_type": "display_data"
    },
    {
     "data": {
      "application/vnd.sqldw.statement-message+json": {
       "end_date_time_utc": "2025-02-12T08:27:42.1641994Z",
       "message_list": [
        {
         "$type": null,
         "data": null,
         "exceptionMessage": null,
         "executeSqlState": "success",
         "recordsAffected": 13,
         "resultType": "statementCompletedMessage",
         "schema": null
        },
        {
         "$type": null,
         "data": null,
         "durationMilliseconds": 23,
         "exceptionMessage": null,
         "executeSqlState": "success",
         "recordsAffected": 0,
         "resultType": "queryDurationMessage",
         "schema": null
        }
       ],
       "start_date_time_utc": "2025-02-12T08:27:41.5532405Z"
      }
     },
     "metadata": {},
     "output_type": "display_data"
    },
    {
     "data": {
      "application/vnd.sqldw.statement-result+json": {
       "result_list": [
        {
         "$type": null,
         "data": [
          [
           "sales_dwh",
           "sys",
           "sys_dw_manifest_files",
           "VIEW"
          ],
          [
           "sales_dwh",
           "sys",
           "sys_dw_physical_table_forks",
           "VIEW"
          ],
          [
           "sales_dwh",
           "sys",
           "sys_dw_physical_tables",
           "VIEW"
          ],
          [
           "sales_dwh",
           "sys",
           "sys_dw_checkpoint_files",
           "VIEW"
          ],
          [
           "sales_dwh",
           "sys",
           "managed_delta_table_log_files",
           "VIEW"
          ],
          [
           "sales_dwh",
           "sys",
           "managed_delta_table_forks",
           "VIEW"
          ],
          [
           "sales_dwh",
           "sys",
           "managed_delta_tables",
           "VIEW"
          ],
          [
           "sales_dwh",
           "sys",
           "managed_delta_table_checkpoints",
           "VIEW"
          ],
          [
           "sales_dwh",
           "sys",
           "sys_dw_schemas",
           "VIEW"
          ],
          [
           "sales_dwh",
           "queryinsights",
           "exec_requests_history",
           "VIEW"
          ],
          [
           "sales_dwh",
           "queryinsights",
           "long_running_queries",
           "VIEW"
          ],
          [
           "sales_dwh",
           "queryinsights",
           "frequently_run_queries",
           "VIEW"
          ],
          [
           "sales_dwh",
           "queryinsights",
           "exec_sessions_history",
           "VIEW"
          ]
         ],
         "exceptionMessage": null,
         "executeSqlState": "success",
         "recordsAffected": 13,
         "resultType": "query",
         "schema": [
          {
           "columnName": "TABLE_CATALOG",
           "dataTypeName": "nvarchar",
           "ordinal": 0
          },
          {
           "columnName": "TABLE_SCHEMA",
           "dataTypeName": "nvarchar",
           "ordinal": 1
          },
          {
           "columnName": "TABLE_NAME",
           "dataTypeName": "nvarchar",
           "ordinal": 2
          },
          {
           "columnName": "TABLE_TYPE",
           "dataTypeName": "varchar",
           "ordinal": 3
          }
         ],
         "truncatedRows": false
        }
       ]
      }
     },
     "metadata": {},
     "output_type": "display_data"
    }
   ],
   "source": [
    "%%sql\n",
    "-- Checking available tables in sales_dwh data warehouse \n",
    "SELECT *\n",
    "FROM [sales_dwh].[INFORMATION_SCHEMA].[TABLES]"
   ]
  },
  {
   "cell_type": "markdown",
   "id": "7c222061-7eb2-471b-bdb4-81e5b3c60f14",
   "metadata": {},
   "source": [
    "<img src=\"table 1.png\" width=800>"
   ]
  },
  {
   "cell_type": "markdown",
   "id": "fb058e48-0ee4-4fbf-be34-f1795c4440df",
   "metadata": {},
   "source": [
    "2. **<u>Tables Creation**"
   ]
  },
  {
   "cell_type": "code",
   "execution_count": 5,
   "id": "9ecf57fd-cd2b-4565-ac81-73eb0423b686",
   "metadata": {
    "microsoft": {
     "language": "sql",
     "language_group": "sqldatawarehouse"
    }
   },
   "outputs": [
    {
     "data": {
      "application/vnd.sqldw.statement-meta+json": {
       "batch_id": "fa3a64f6-9fcf-4a79-b672-a9f33b141b0b@b82418bf-3d34-4eec-8521-2ceda83c199a$2025-02-12T08:27:57.9445528Z@dea7ddab-19e6-494d-a41a-2f3ba03bffa9",
       "commands": [
        {
         "$type": "ExecuteSqlTrackedCommand",
         "clientAppName": "Notebook",
         "queryMaxRows": 10000,
         "schemaOnly": false,
         "sqlScript": "-- After Creating the staging table and the data warehouse 'sales_dwh' and the 'sales_schema', we wil create the Dimensional and fact tables to organize our data for analytics.\n\n-- Create Dim_Customer Table\nif not exists (select * from INFORMATION_SCHEMA.TABLES where table_schema ='sales_schema' and table_name = 'Dim_Customer')\nCREATE TABLE sales_schema.Dim_Customer (\n    CustomerID varchar(255) not null\n    ,CustomerName varchar(255)\n    ,EmailAddress varchar(255) not null\n    --,Constraint PK_Dim_Customer primary key (CustomerID) -- Contraints cannot be declred inside the create in fabric\n)\n\n-- Create Dim_Item Table\nif not exists (select * from INFORMATION_SCHEMA.TABLES where table_schema = 'sales_schema' and table_name ='Dim_Item')\ncreate table sales_schema.Dim_Item(\n    ItemID varchar(255) not null\n    ,ItemName varchar(255) not null\n)\n\n-- Create Fact_Sales Table \nif not exists (select* from INFORMATION_SCHEMA.TABLES where table_schema = 'sales_schema' and table_name = 'Fact_Sales' )\ncreate table sales_schema.Fact_Sales (\n    CustomerID varchar(255) not null\n    ,ItemID varchar(255) not null\n    ,SalesOrderNumber varchar(30) null\n    ,SalesOrderLineNumber int null \n    ,OrderDate date null \n    ,Quantity int null \n    ,TaxAmount float null\n    ,UnitPrice float null \n)\n"
        }
       ],
       "created_at": "2025-02-12T08:27:57.9445528Z",
       "end_date_time_utc": "2025-02-12T08:27:59.5622512Z",
       "is_cancel": false,
       "root_activity_id": "64f04086-0d1f-4d2a-ae8d-7190bebaa910",
       "session_id": "905c6439-b8f4-408b-bfcc-0b949019206a",
       "sqldw_state": "success",
       "start_date_time_utc": "2025-02-12T08:27:57.841274Z",
       "updated_at": "2025-02-12T08:27:59.3664866Z"
      }
     },
     "metadata": {},
     "output_type": "display_data"
    },
    {
     "data": {
      "application/vnd.sqldw.statement-message+json": {
       "end_date_time_utc": "2025-02-12T08:27:59.5622512Z",
       "message_list": [
        {
         "$type": null,
         "data": null,
         "exceptionMessage": null,
         "executeSqlState": "success",
         "recordsAffected": 0,
         "resultType": "infoMessage",
         "schema": null,
         "sqlWarnings": [
          {
           "messageText": "Statement ID: {67FED6AE-A236-430A-88D3-FBA4E286B696}",
           "messageType": 1,
           "sqlErrorClass": 0,
           "sqlErrorLineNumber": null,
           "sqlErrorNumber": 24528,
           "sqlErrorState": 1
          }
         ]
        },
        {
         "$type": null,
         "data": null,
         "exceptionMessage": null,
         "executeSqlState": "success",
         "recordsAffected": 0,
         "resultType": "infoMessage",
         "schema": null,
         "sqlWarnings": [
          {
           "messageText": "Statement ID: {FE8A5798-FBB8-4E0C-8C95-EF9485C06932}",
           "messageType": 1,
           "sqlErrorClass": 0,
           "sqlErrorLineNumber": null,
           "sqlErrorNumber": 24528,
           "sqlErrorState": 1
          }
         ]
        },
        {
         "$type": null,
         "data": null,
         "exceptionMessage": null,
         "executeSqlState": "success",
         "recordsAffected": 0,
         "resultType": "infoMessage",
         "schema": null,
         "sqlWarnings": [
          {
           "messageText": "Statement ID: {A2E62F7A-3465-4FB3-9B8A-0183E7CE73FC}",
           "messageType": 1,
           "sqlErrorClass": 0,
           "sqlErrorLineNumber": null,
           "sqlErrorNumber": 24528,
           "sqlErrorState": 1
          }
         ]
        },
        {
         "$type": null,
         "data": null,
         "durationMilliseconds": 866,
         "exceptionMessage": null,
         "executeSqlState": "success",
         "recordsAffected": 0,
         "resultType": "queryDurationMessage",
         "schema": null
        },
        {
         "$type": null,
         "data": null,
         "exceptionMessage": null,
         "executeSqlState": "success",
         "recordsAffected": 0,
         "resultType": "shouldRefresh",
         "schema": null
        }
       ],
       "start_date_time_utc": "2025-02-12T08:27:57.841274Z"
      }
     },
     "metadata": {},
     "output_type": "display_data"
    }
   ],
   "source": [
    "%%sql\n",
    "-- Next I wil create the Dimensional and fact tables to organize our data for analytics.\n",
    "\n",
    "-- Create Dim_Customer Table\n",
    "if not exists (select * from INFORMATION_SCHEMA.TABLES where table_schema ='sales_schema' and table_name = 'Dim_Customer')\n",
    "CREATE TABLE sales_schema.Dim_Customer (\n",
    "    CustomerID varchar(255) not null\n",
    "    ,CustomerName varchar(255)\n",
    "    ,EmailAddress varchar(255) not null\n",
    "    --,Constraint PK_Dim_Customer primary key (CustomerID) -- Contraints cannot be declred inside the create in fabric\n",
    ")\n",
    "\n",
    "-- Create Dim_Item Table\n",
    "if not exists (select * from INFORMATION_SCHEMA.TABLES where table_schema = 'sales_schema' and table_name ='Dim_Item')\n",
    "create table sales_schema.Dim_Item(\n",
    "    ItemID varchar(255) not null\n",
    "    ,ItemName varchar(255) not null\n",
    ")\n",
    "\n",
    "-- Create Fact_Sales Table \n",
    "if not exists (select* from INFORMATION_SCHEMA.TABLES where table_schema = 'sales_schema' and table_name = 'Fact_Sales' )\n",
    "create table sales_schema.Fact_Sales (\n",
    "    CustomerID varchar(255) not null\n",
    "    ,ItemID varchar(255) not null\n",
    "    ,SalesOrderNumber varchar(30) null\n",
    "    ,SalesOrderLineNumber int null \n",
    "    ,OrderDate date null \n",
    "    ,Quantity int null \n",
    "    ,TaxAmount float null\n",
    "    ,UnitPrice float null \n",
    ")\n"
   ]
  },
  {
   "cell_type": "code",
   "execution_count": 6,
   "id": "640cbc03-d8c6-429e-ace2-22a93ef468d6",
   "metadata": {
    "microsoft": {
     "language": "sql",
     "language_group": "sqldatawarehouse"
    }
   },
   "outputs": [
    {
     "data": {
      "application/vnd.sqldw.statement-meta+json": {
       "batch_id": "fa3a64f6-9fcf-4a79-b672-a9f33b141b0b@b82418bf-3d34-4eec-8521-2ceda83c199a$2025-02-12T08:28:03.7258835Z@cf31bd7a-53e6-4908-904b-5e7c1954994e",
       "commands": [
        {
         "$type": "ExecuteSqlTrackedCommand",
         "clientAppName": "Notebook",
         "queryMaxRows": 10000,
         "schemaOnly": false,
         "sqlScript": "SELECT *\nFROM [sales_dwh].[INFORMATION_SCHEMA].[TABLES]\nwhere table_schema = 'sales_schema'"
        }
       ],
       "created_at": "2025-02-12T08:28:03.7258835Z",
       "end_date_time_utc": "2025-02-12T08:28:04.3810063Z",
       "is_cancel": false,
       "root_activity_id": "8a778ce0-e6ea-4810-be36-b8ce8e380774",
       "session_id": "905c6439-b8f4-408b-bfcc-0b949019206a",
       "sqldw_state": "success",
       "start_date_time_utc": "2025-02-12T08:28:03.7227685Z",
       "updated_at": "2025-02-12T08:28:04.288396Z"
      }
     },
     "metadata": {},
     "output_type": "display_data"
    },
    {
     "data": {
      "application/vnd.sqldw.statement-message+json": {
       "end_date_time_utc": "2025-02-12T08:28:04.3810063Z",
       "message_list": [
        {
         "$type": null,
         "data": null,
         "exceptionMessage": null,
         "executeSqlState": "success",
         "recordsAffected": 3,
         "resultType": "statementCompletedMessage",
         "schema": null
        },
        {
         "$type": null,
         "data": null,
         "durationMilliseconds": 31,
         "exceptionMessage": null,
         "executeSqlState": "success",
         "recordsAffected": 0,
         "resultType": "queryDurationMessage",
         "schema": null
        }
       ],
       "start_date_time_utc": "2025-02-12T08:28:03.7227685Z"
      }
     },
     "metadata": {},
     "output_type": "display_data"
    },
    {
     "data": {
      "application/vnd.sqldw.statement-result+json": {
       "result_list": [
        {
         "$type": null,
         "data": [
          [
           "sales_dwh",
           "sales_schema",
           "Dim_Customer",
           "BASE TABLE"
          ],
          [
           "sales_dwh",
           "sales_schema",
           "Dim_Item",
           "BASE TABLE"
          ],
          [
           "sales_dwh",
           "sales_schema",
           "Fact_Sales",
           "BASE TABLE"
          ]
         ],
         "exceptionMessage": null,
         "executeSqlState": "success",
         "recordsAffected": 3,
         "resultType": "query",
         "schema": [
          {
           "columnName": "TABLE_CATALOG",
           "dataTypeName": "nvarchar",
           "ordinal": 0
          },
          {
           "columnName": "TABLE_SCHEMA",
           "dataTypeName": "nvarchar",
           "ordinal": 1
          },
          {
           "columnName": "TABLE_NAME",
           "dataTypeName": "nvarchar",
           "ordinal": 2
          },
          {
           "columnName": "TABLE_TYPE",
           "dataTypeName": "varchar",
           "ordinal": 3
          }
         ],
         "truncatedRows": false
        }
       ]
      }
     },
     "metadata": {},
     "output_type": "display_data"
    }
   ],
   "source": [
    "%%sql\n",
    "-- Verifying the creation of our dim and fact tables\n",
    "SELECT *\n",
    "FROM [sales_dwh].[INFORMATION_SCHEMA].[TABLES]\n",
    "where table_schema = 'sales_schema'"
   ]
  },
  {
   "cell_type": "markdown",
   "id": "a2950721-e143-4445-9280-ea4c57792ff1",
   "metadata": {},
   "source": [
    "<img src=\"table 2.png\" width=800>"
   ]
  },
  {
   "cell_type": "code",
   "execution_count": 8,
   "id": "91c5610d-90af-4cb6-907d-7f8aa11b775e",
   "metadata": {
    "microsoft": {
     "language": "sql",
     "language_group": "sqldatawarehouse"
    }
   },
   "outputs": [
    {
     "data": {
      "application/vnd.sqldw.statement-meta+json": {
       "batch_id": "fa3a64f6-9fcf-4a79-b672-a9f33b141b0b@b82418bf-3d34-4eec-8521-2ceda83c199a$2025-02-12T08:28:15.3040847Z@d1a03eb3-c75f-424f-85fd-f4c33b8190e0",
       "commands": [
        {
         "$type": "ExecuteSqlTrackedCommand",
         "clientAppName": "Notebook",
         "queryMaxRows": 10000,
         "schemaOnly": false,
         "sqlScript": "-- Defining primary key for Dim_Customer\nalter table sales_schema.Dim_Customer\nadd constraint PK_Dim_Customer primary key Nonclustered (CustomerID) not enforced\n\n-- Defining primary key for Dim_Item\nalter table sales_schema.Dim_Item \nadd constraint PK_Dim_Item primary key nonclustered (ItemID) not enforced\n\n-- Defining foreign keys for Fact_Sales\nalter table sales_schema.Fact_Sales\nadd constraint FK_Dim_Item foreign key (ItemID) references sales_schema.Dim_Item (ItemID) not enforced\n\nalter table sales_schema.Fact_Sales\nadd constraint FK_Dim_Customer foreign key (CustomerID) references sales_schema.Dim_Customer(CustomerID) not enforced"
        }
       ],
       "created_at": "2025-02-12T08:28:15.3040847Z",
       "end_date_time_utc": "2025-02-12T08:28:15.7436851Z",
       "is_cancel": false,
       "root_activity_id": "1e2f65fe-1549-4f7a-8071-f1b1654fd1f0",
       "session_id": "905c6439-b8f4-408b-bfcc-0b949019206a",
       "sqldw_state": "success",
       "start_date_time_utc": "2025-02-12T08:28:15.2975543Z",
       "updated_at": "2025-02-12T08:28:15.6166251Z"
      }
     },
     "metadata": {},
     "output_type": "display_data"
    },
    {
     "data": {
      "application/vnd.sqldw.statement-message+json": {
       "end_date_time_utc": "2025-02-12T08:28:15.7436851Z",
       "message_list": [
        {
         "$type": null,
         "data": null,
         "exceptionMessage": null,
         "executeSqlState": "success",
         "recordsAffected": 0,
         "resultType": "infoMessage",
         "schema": null,
         "sqlWarnings": [
          {
           "messageText": "Statement ID: {BC66645E-E573-4089-A25A-9A07D9AB713F}",
           "messageType": 1,
           "sqlErrorClass": 0,
           "sqlErrorLineNumber": null,
           "sqlErrorNumber": 24528,
           "sqlErrorState": 1
          }
         ]
        },
        {
         "$type": null,
         "data": null,
         "exceptionMessage": null,
         "executeSqlState": "success",
         "recordsAffected": 0,
         "resultType": "infoMessage",
         "schema": null,
         "sqlWarnings": [
          {
           "messageText": "Statement ID: {56BB041A-0E93-48D0-9455-F5277A6686B4}",
           "messageType": 1,
           "sqlErrorClass": 0,
           "sqlErrorLineNumber": null,
           "sqlErrorNumber": 24528,
           "sqlErrorState": 1
          }
         ]
        },
        {
         "$type": null,
         "data": null,
         "exceptionMessage": null,
         "executeSqlState": "success",
         "recordsAffected": 0,
         "resultType": "infoMessage",
         "schema": null,
         "sqlWarnings": [
          {
           "messageText": "Statement ID: {30B271CE-1FC4-4B90-99EC-2BD25DA7030B}",
           "messageType": 1,
           "sqlErrorClass": 0,
           "sqlErrorLineNumber": null,
           "sqlErrorNumber": 24528,
           "sqlErrorState": 1
          }
         ]
        },
        {
         "$type": null,
         "data": null,
         "exceptionMessage": null,
         "executeSqlState": "success",
         "recordsAffected": 0,
         "resultType": "infoMessage",
         "schema": null,
         "sqlWarnings": [
          {
           "messageText": "Statement ID: {D533447D-2D47-4F29-9BB8-AA25A4CA1981}",
           "messageType": 1,
           "sqlErrorClass": 0,
           "sqlErrorLineNumber": null,
           "sqlErrorNumber": 24528,
           "sqlErrorState": 1
          }
         ]
        },
        {
         "$type": null,
         "data": null,
         "exceptionMessage": null,
         "executeSqlState": "success",
         "recordsAffected": 0,
         "resultType": "infoMessage",
         "schema": null,
         "sqlWarnings": [
          {
           "messageText": "Statement ID: {A4EB4399-6B77-4AAD-B27A-077EDDD35D91}",
           "messageType": 1,
           "sqlErrorClass": 0,
           "sqlErrorLineNumber": null,
           "sqlErrorNumber": 24528,
           "sqlErrorState": 1
          }
         ]
        },
        {
         "$type": null,
         "data": null,
         "durationMilliseconds": 37,
         "exceptionMessage": null,
         "executeSqlState": "success",
         "recordsAffected": 0,
         "resultType": "queryDurationMessage",
         "schema": null
        },
        {
         "$type": null,
         "data": null,
         "exceptionMessage": null,
         "executeSqlState": "success",
         "recordsAffected": 0,
         "resultType": "shouldRefresh",
         "schema": null
        }
       ],
       "start_date_time_utc": "2025-02-12T08:28:15.2975543Z"
      }
     },
     "metadata": {},
     "output_type": "display_data"
    }
   ],
   "source": [
    "%%sql\n",
    "-- Primary & Foreign Keys creation:\n",
    "\n",
    "-- Defining primary key for Dim_Customer\n",
    "alter table sales_schema.Dim_Customer\n",
    "add constraint PK_Dim_Customer primary key Nonclustered (CustomerID) not enforced\n",
    "\n",
    "-- Defining primary key for Dim_Item\n",
    "alter table sales_schema.Dim_Item \n",
    "add constraint PK_Dim_Item primary key nonclustered (ItemID) not enforced\n",
    "\n",
    "-- Defining foreign keys for Fact_Sales\n",
    "alter table sales_schema.Fact_Sales\n",
    "add constraint FK_Dim_Item foreign key (ItemID) references sales_schema.Dim_Item (ItemID) not enforced\n",
    "\n",
    "alter table sales_schema.Fact_Sales\n",
    "add constraint FK_Dim_Customer foreign key (CustomerID) references sales_schema.Dim_Customer(CustomerID) not enforced"
   ]
  },
  {
   "cell_type": "code",
   "execution_count": 9,
   "id": "a7a4f1d3-306b-48b2-9378-0d0b544a546f",
   "metadata": {
    "microsoft": {
     "language": "sql",
     "language_group": "sqldatawarehouse"
    }
   },
   "outputs": [
    {
     "data": {
      "application/vnd.sqldw.statement-meta+json": {
       "batch_id": "fa3a64f6-9fcf-4a79-b672-a9f33b141b0b@b82418bf-3d34-4eec-8521-2ceda83c199a$2025-02-12T08:28:22.3666905Z@c2344317-8bca-48bc-9013-2d3b46312116",
       "commands": [
        {
         "$type": "ExecuteSqlTrackedCommand",
         "clientAppName": "Notebook",
         "queryMaxRows": 10000,
         "schemaOnly": false,
         "sqlScript": "-- Data in the staging table Sales_stg \nselect top 5 *\nfrom sales_dlh.dbo.sales_stg"
        }
       ],
       "created_at": "2025-02-12T08:28:22.3666905Z",
       "end_date_time_utc": "2025-02-12T08:28:51.3825385Z",
       "is_cancel": false,
       "root_activity_id": "453971e1-ebf6-4349-9874-2be3d407f0ee",
       "session_id": "905c6439-b8f4-408b-bfcc-0b949019206a",
       "sqldw_state": "success",
       "start_date_time_utc": "2025-02-12T08:28:22.3598421Z",
       "updated_at": "2025-02-12T08:28:49.8669245Z"
      }
     },
     "metadata": {},
     "output_type": "display_data"
    },
    {
     "data": {
      "application/vnd.sqldw.statement-message+json": {
       "end_date_time_utc": "2025-02-12T08:28:51.3825385Z",
       "message_list": [
        {
         "$type": null,
         "data": null,
         "exceptionMessage": null,
         "executeSqlState": "success",
         "recordsAffected": 0,
         "resultType": "infoMessage",
         "schema": null,
         "sqlWarnings": [
          {
           "messageText": "Statement ID: {FD071542-ACAC-4240-B0F1-3BD308A7D343} | Query hash: 0x3F6DDE4C0DD769DA | Distributed request ID: {769B983C-4299-4CA1-A5C6-BFF02A71536C}",
           "messageType": 1,
           "sqlErrorClass": 0,
           "sqlErrorLineNumber": null,
           "sqlErrorNumber": 15806,
           "sqlErrorState": 1
          }
         ]
        },
        {
         "$type": null,
         "data": null,
         "exceptionMessage": null,
         "executeSqlState": "success",
         "recordsAffected": 5,
         "resultType": "statementCompletedMessage",
         "schema": null
        },
        {
         "$type": null,
         "data": null,
         "durationMilliseconds": 27054,
         "exceptionMessage": null,
         "executeSqlState": "success",
         "recordsAffected": 0,
         "resultType": "queryDurationMessage",
         "schema": null
        }
       ],
       "start_date_time_utc": "2025-02-12T08:28:22.3598421Z"
      }
     },
     "metadata": {},
     "output_type": "display_data"
    },
    {
     "data": {
      "application/vnd.sqldw.statement-result+json": {
       "result_list": [
        {
         "$type": null,
         "data": [
          [
           "SO51555",
           "7",
           "2021-06-23",
           "Chloe Garcia",
           "chloe27@adventure-works.com",
           "Patch Kit/8 Patches",
           "1",
           "2.29",
           "0.1832"
          ],
          [
           "SO54042",
           "7",
           "2021-08-09",
           "Logan Collins",
           "logan29@adventure-works.com",
           "Half-Finger Gloves, L",
           "1",
           "24.49",
           "1.9592"
          ],
          [
           "SO54784",
           "7",
           "2021-08-22",
           "Autumn Li",
           "autumn3@adventure-works.com",
           "All-Purpose Bike Stand",
           "1",
           "159",
           "12.72"
          ],
          [
           "SO58572",
           "7",
           "2021-10-25",
           "Cesar Sara",
           "cesar9@adventure-works.com",
           "Short-Sleeve Classic Jersey, M",
           "1",
           "53.99",
           "4.3192"
          ],
          [
           "SO58845",
           "7",
           "2021-10-30",
           "Peter She",
           "peter8@adventure-works.com",
           "Sport-100 Helmet, Black",
           "1",
           "34.99",
           "2.7992"
          ]
         ],
         "exceptionMessage": null,
         "executeSqlState": "success",
         "recordsAffected": 5,
         "resultType": "query",
         "schema": [
          {
           "columnName": "SalesOrderNumber",
           "dataTypeName": "varchar",
           "ordinal": 0
          },
          {
           "columnName": "SalesOrderLineNumber",
           "dataTypeName": "int",
           "ordinal": 1
          },
          {
           "columnName": "OrderDate",
           "dataTypeName": "date",
           "ordinal": 2
          },
          {
           "columnName": "CustomerName",
           "dataTypeName": "varchar",
           "ordinal": 3
          },
          {
           "columnName": "EmailAddress",
           "dataTypeName": "varchar",
           "ordinal": 4
          },
          {
           "columnName": "Item",
           "dataTypeName": "varchar",
           "ordinal": 5
          },
          {
           "columnName": "Quantity",
           "dataTypeName": "int",
           "ordinal": 6
          },
          {
           "columnName": "UnitPrice",
           "dataTypeName": "float",
           "ordinal": 7
          },
          {
           "columnName": "TaxAmount",
           "dataTypeName": "float",
           "ordinal": 8
          }
         ],
         "truncatedRows": false
        }
       ]
      }
     },
     "metadata": {},
     "output_type": "display_data"
    }
   ],
   "source": [
    "%%sql\n",
    "-- having a look at the data in the staging table Sales_stg that is located in the data lakehouse \n",
    "select top 5 *\n",
    "from sales_dlh.dbo.sales_stg"
   ]
  },
  {
   "cell_type": "markdown",
   "id": "aadaffbf-f35f-4121-969d-91720ee37af3",
   "metadata": {},
   "source": [
    "<img src=\"table 3.png\" width=800>"
   ]
  },
  {
   "cell_type": "markdown",
   "id": "931e73e5-3e1e-418f-b1dd-8a99ed828433",
   "metadata": {},
   "source": [
    "3. **<u>Data Loading via Stored Procedure**"
   ]
  },
  {
   "cell_type": "code",
   "execution_count": 13,
   "id": "79bf5e03-0b24-4921-9c05-5140887f953d",
   "metadata": {
    "microsoft": {
     "language": "sql",
     "language_group": "sqldatawarehouse"
    }
   },
   "outputs": [
    {
     "data": {
      "application/vnd.sqldw.statement-meta+json": {
       "batch_id": "fa3a64f6-9fcf-4a79-b672-a9f33b141b0b@b82418bf-3d34-4eec-8521-2ceda83c199a$2025-02-12T08:29:26.4308252Z@d7806f35-13d3-4fce-b627-d750d9375ff8",
       "commands": [
        {
         "$type": "ExecuteSqlTrackedCommand",
         "clientAppName": "Notebook",
         "queryMaxRows": 10000,
         "schemaOnly": false,
         "sqlScript": "-- Load data to the warehouse using a stored procedure\n\ncreate or alter procedure sales_schema.LoadDataFromStaging (@OrderYear int) as \nbegin\n\n-- Insert customers data into Dim_Customer while avoiding duplicates.\ninsert into sales_schema.Dim_Customer (CustomerID, CustomerName,EmailAddress)\nselect distinct \n    CustomerName\n    ,CustomerName\n    ,EmailAddress\nfrom sales_dlh.dbo.sales_stg\nwhere year(OrderDate)=@OrderYear\nand not exists (\n    select * \n    from sales_schema.Dim_Customer c \n    inner join sales_dlh.dbo.sales_stg s\n    on  c.CustomerName = s.CustomerName\n    and c.EmailAddress = s.EmailAddress   \n    )\n\n\n-- Insert items data into Dim_Item\ninsert into sales_schema.Dim_Item(ItemID,ItemName)\nselect distinct Item,Item\nfrom sales_dlh.dbo.sales_stg\nwhere year(OrderDate) = @OrderYear\nand not exists (\n    select *\n    from sales_schema.Dim_Item i\n    inner join sales_dlh.dbo.sales_stg s\n    on i.ItemName = s.Item\n)\n\n-- insert sales data in Fact_Sales\ninsert into sales_schema.Fact_Sales(CustomerID,ItemID,SalesOrderNumber,SalesOrderLineNumber,OrderDate,Quantity,TaxAmount,UnitPrice)\nselect distinct\n    cast(CustomerName as varchar(255))\n    ,cast(Item as varchar(255))\n    ,cast(SalesOrderNumber as varchar(30))\n    ,cast(SalesOrderLineNumber as int) \n    ,cast(OrderDate as date) \n    ,cast(Quantity as int) \n    ,cast(TaxAmount as float)\n    ,cast(UnitPrice as float)\nfrom sales_dlh.dbo.sales_stg\nwhere year(OrderDate) = @OrderYear\n\nend\n\nGO\n-- running the procedure\nexec sales_schema.LoadDataFromStaging 2021"
        }
       ],
       "created_at": "2025-02-12T08:29:26.4308252Z",
       "end_date_time_utc": "2025-02-12T08:29:32.5327895Z",
       "is_cancel": false,
       "root_activity_id": "123ea89e-45c7-454d-9078-fe2532f56da3",
       "session_id": "905c6439-b8f4-408b-bfcc-0b949019206a",
       "sqldw_state": "success",
       "start_date_time_utc": "2025-02-12T08:29:26.3597686Z",
       "updated_at": "2025-02-12T08:29:32.5140621Z"
      }
     },
     "metadata": {},
     "output_type": "display_data"
    },
    {
     "data": {
      "application/vnd.sqldw.statement-message+json": {
       "end_date_time_utc": "2025-02-12T08:29:32.5327895Z",
       "message_list": [
        {
         "$type": null,
         "data": null,
         "exceptionMessage": null,
         "executeSqlState": "success",
         "recordsAffected": 0,
         "resultType": "infoMessage",
         "schema": null,
         "sqlWarnings": [
          {
           "messageText": "Statement ID: {8F7582C4-1E08-400B-B00C-534CD02B1559} | Query hash: 0x1341DFDFC39DB034 | Distributed request ID: {E56CE798-B771-4249-82FD-4A5E1423862C}",
           "messageType": 1,
           "sqlErrorClass": 0,
           "sqlErrorLineNumber": null,
           "sqlErrorNumber": 15806,
           "sqlErrorState": 1
          }
         ]
        },
        {
         "$type": null,
         "data": null,
         "exceptionMessage": null,
         "executeSqlState": "success",
         "recordsAffected": 10492,
         "resultType": "statementCompletedMessage",
         "schema": null
        },
        {
         "$type": null,
         "data": null,
         "exceptionMessage": null,
         "executeSqlState": "success",
         "recordsAffected": 0,
         "resultType": "infoMessage",
         "schema": null,
         "sqlWarnings": [
          {
           "messageText": "Statement ID: {D7295F12-26FF-47DE-8C65-EEE777C4C620} | Query hash: 0x404D9D17E93764EF | Distributed request ID: {A3CC08E4-ECA8-4501-BDEB-48A5309D9647}",
           "messageType": 1,
           "sqlErrorClass": 0,
           "sqlErrorLineNumber": null,
           "sqlErrorNumber": 15806,
           "sqlErrorState": 1
          }
         ]
        },
        {
         "$type": null,
         "data": null,
         "exceptionMessage": null,
         "executeSqlState": "success",
         "recordsAffected": 117,
         "resultType": "statementCompletedMessage",
         "schema": null
        },
        {
         "$type": null,
         "data": null,
         "exceptionMessage": null,
         "executeSqlState": "success",
         "recordsAffected": 0,
         "resultType": "infoMessage",
         "schema": null,
         "sqlWarnings": [
          {
           "messageText": "Statement ID: {EC1419DD-AB06-48EB-B2F4-1FB0D2AF4258} | Query hash: 0xEF421EEB5FBE9B71 | Distributed request ID: {AC47943F-0929-4C08-A010-6F898D9CA3EF}",
           "messageType": 1,
           "sqlErrorClass": 0,
           "sqlErrorLineNumber": null,
           "sqlErrorNumber": 15806,
           "sqlErrorState": 1
          }
         ]
        },
        {
         "$type": null,
         "data": null,
         "exceptionMessage": null,
         "executeSqlState": "success",
         "recordsAffected": 28784,
         "resultType": "statementCompletedMessage",
         "schema": null
        },
        {
         "$type": null,
         "data": null,
         "durationMilliseconds": 5670,
         "exceptionMessage": null,
         "executeSqlState": "success",
         "recordsAffected": 0,
         "resultType": "queryDurationMessage",
         "schema": null
        },
        {
         "$type": null,
         "data": null,
         "exceptionMessage": null,
         "executeSqlState": "success",
         "recordsAffected": 0,
         "resultType": "shouldRefresh",
         "schema": null
        }
       ],
       "start_date_time_utc": "2025-02-12T08:29:26.3597686Z"
      }
     },
     "metadata": {},
     "output_type": "display_data"
    }
   ],
   "source": [
    "%%sql\n",
    "-- Load data to the warehouse using a stored procedure\n",
    "\n",
    "create or alter procedure sales_schema.LoadDataFromStaging (@OrderYear int) as \n",
    "begin\n",
    "\n",
    "-- Insert customers data into Dim_Customer while avoiding duplicates.\n",
    "insert into sales_schema.Dim_Customer (CustomerID, CustomerName,EmailAddress)\n",
    "select distinct \n",
    "    CustomerName\n",
    "    ,CustomerName\n",
    "    ,EmailAddress\n",
    "from sales_dlh.dbo.sales_stg\n",
    "where year(OrderDate)=@OrderYear\n",
    "and not exists (\n",
    "    select * \n",
    "    from sales_schema.Dim_Customer c \n",
    "    inner join sales_dlh.dbo.sales_stg s\n",
    "    on  c.CustomerName = s.CustomerName\n",
    "    and c.EmailAddress = s.EmailAddress   \n",
    "    )\n",
    "\n",
    "\n",
    "-- Insert items data into Dim_Item\n",
    "insert into sales_schema.Dim_Item(ItemID,ItemName)\n",
    "select distinct Item,Item\n",
    "from sales_dlh.dbo.sales_stg\n",
    "where year(OrderDate) = @OrderYear\n",
    "and not exists (\n",
    "    select *\n",
    "    from sales_schema.Dim_Item i\n",
    "    inner join sales_dlh.dbo.sales_stg s\n",
    "    on i.ItemName = s.Item\n",
    ")\n",
    "\n",
    "-- insert sales data in Fact_Sales\n",
    "insert into sales_schema.Fact_Sales(CustomerID,ItemID,SalesOrderNumber,SalesOrderLineNumber,OrderDate,Quantity,TaxAmount,UnitPrice)\n",
    "select distinct\n",
    "    cast(CustomerName as varchar(255))\n",
    "    ,cast(Item as varchar(255))\n",
    "    ,cast(SalesOrderNumber as varchar(30))\n",
    "    ,cast(SalesOrderLineNumber as int) \n",
    "    ,cast(OrderDate as date) \n",
    "    ,cast(Quantity as int) \n",
    "    ,cast(TaxAmount as float)\n",
    "    ,cast(UnitPrice as float)\n",
    "from sales_dlh.dbo.sales_stg\n",
    "where year(OrderDate) = @OrderYear\n",
    "\n",
    "end\n",
    "\n",
    "GO\n",
    "-- Executing the procedure\n",
    "exec sales_schema.LoadDataFromStaging 2021"
   ]
  },
  {
   "cell_type": "markdown",
   "id": "05042047-6236-4876-9c10-b0e50145891b",
   "metadata": {
    "nteract": {
     "transient": {
      "deleting": false
     }
    }
   },
   "source": [
    "1. **<u>Running Analytical Queries**"
   ]
  },
  {
   "cell_type": "code",
   "execution_count": 50,
   "id": "0dd3590a-3a51-406a-a8ef-24a1237d7e52",
   "metadata": {
    "microsoft": {
     "language": "sql",
     "language_group": "sqldatawarehouse"
    },
    "sqlDWViewState": {
     "chartOptions": {
      "aggregationType": "sum",
      "binsNumber": 10,
      "categoryFieldKeys": [
       "1"
      ],
      "chartType": "column",
      "isStacked": false,
      "pivotFieldKey": "0",
      "seriesFieldKeys": [
       "1"
      ],
      "wordFrequency": "-1"
     },
     "tableOptions": {},
     "viewOptionsGroup": [
      {
       "tabItems": [
        {
         "key": "0",
         "name": "Table",
         "options": {},
         "type": "table"
        },
        {
         "key": "2-xmh5",
         "name": "Chart 1",
         "options": {
          "aggregationType": "sum",
          "binsNumber": 10,
          "categoryFieldKeys": [
           "0"
          ],
          "chartType": "column",
          "isStacked": false,
          "legend": "right",
          "pivotFieldKey": "0",
          "seriesFieldKeys": [
           "1"
          ],
          "showDataLabels": true,
          "subtitle": "Description of the chart",
          "theme": "default",
          "title": "TotalSales by Customers",
          "wordFrequency": "-1",
          "xAxisStyle": {
           "label": ""
          },
          "yAxisStyle": {
           "scale": "linear"
          }
         },
         "type": "chart"
        }
       ]
      }
     ]
    }
   },
   "outputs": [
    {
     "data": {
      "application/vnd.sqldw.statement-meta+json": {
       "batch_id": "fa3a64f6-9fcf-4a79-b672-a9f33b141b0b@b82418bf-3d34-4eec-8521-2ceda83c199a$2025-02-12T10:02:20.0859099Z@80c2d09e-aef3-4656-99e8-03028d1ffe8e",
       "commands": [
        {
         "$type": "ExecuteSqlTrackedCommand",
         "clientAppName": "Notebook",
         "queryMaxRows": 10000,
         "schemaOnly": false,
         "sqlScript": "-- Write a SQL query to retrieve the total sales per customer for the year 2021, ensuring the data is grouped by customer and ordered from highest to lowest sales.\nselect top 5\n    c.CustomerName\n    ,round(sum(s.Quantity*s.UnitPrice),2) as TotalSales\n    \nfrom \n    sales_schema.Dim_Customer c \n    left join sales_schema.Fact_Sales s\n    on c.CustomerID = s.CustomerID\nwhere year(s.OrderDate) = 2021\ngroup by c.CustomerName\norder by 2 desc\n"
        }
       ],
       "created_at": "2025-02-12T10:02:20.0859099Z",
       "end_date_time_utc": "2025-02-12T10:02:26.1601717Z",
       "is_cancel": false,
       "root_activity_id": "98e860b1-0625-4c11-b840-d04c52c83bd8",
       "session_id": "905c6439-b8f4-408b-bfcc-0b949019206a",
       "sqldw_state": "success",
       "start_date_time_utc": "2025-02-12T10:02:19.8432803Z",
       "updated_at": "2025-02-12T10:02:25.2264924Z"
      }
     },
     "metadata": {},
     "output_type": "display_data"
    },
    {
     "data": {
      "application/vnd.sqldw.statement-message+json": {
       "end_date_time_utc": "2025-02-12T10:02:26.1601717Z",
       "message_list": [
        {
         "$type": null,
         "data": null,
         "exceptionMessage": null,
         "executeSqlState": "success",
         "recordsAffected": 0,
         "resultType": "infoMessage",
         "schema": null,
         "sqlWarnings": [
          {
           "messageText": "Statement ID: {3E06C5C7-A92C-424A-94B9-414AD39EBA7C} | Query hash: 0x764D928E2E44D73E | Distributed request ID: {3FB28AC5-2888-4169-AEF2-6B6FAB80B99D}",
           "messageType": 1,
           "sqlErrorClass": 0,
           "sqlErrorLineNumber": null,
           "sqlErrorNumber": 15806,
           "sqlErrorState": 1
          }
         ]
        },
        {
         "$type": null,
         "data": null,
         "exceptionMessage": null,
         "executeSqlState": "success",
         "recordsAffected": 5,
         "resultType": "statementCompletedMessage",
         "schema": null
        },
        {
         "$type": null,
         "data": null,
         "durationMilliseconds": 4277,
         "exceptionMessage": null,
         "executeSqlState": "success",
         "recordsAffected": 0,
         "resultType": "queryDurationMessage",
         "schema": null
        }
       ],
       "start_date_time_utc": "2025-02-12T10:02:19.8432803Z"
      }
     },
     "metadata": {},
     "output_type": "display_data"
    },
    {
     "data": {
      "application/vnd.sqldw.statement-result+json": {
       "result_list": [
        {
         "$type": null,
         "data": [
          [
           "Jordan Turner",
           "14686.7"
          ],
          [
           "Nicole Blue",
           "11494.93"
          ],
          [
           "Maurice Shan",
           "10525.6"
          ],
          [
           "Janet Munoz",
           "10070.11"
          ],
          [
           "Alexandra Hall",
           "9710.76"
          ]
         ],
         "exceptionMessage": null,
         "executeSqlState": "success",
         "recordsAffected": 5,
         "resultType": "query",
         "schema": [
          {
           "columnName": "CustomerName",
           "dataTypeName": "varchar",
           "ordinal": 0
          },
          {
           "columnName": "TotalSales",
           "dataTypeName": "float",
           "ordinal": 1
          }
         ],
         "truncatedRows": false
        }
       ]
      }
     },
     "metadata": {},
     "output_type": "display_data"
    }
   ],
   "source": [
    "%%sql\n",
    "-- Write a SQL query to retrieve the total sales per customer for the year 2021,\n",
    "--ensuring the data is grouped by customer and ordered from highest to lowest sales.\n",
    "select top 5\n",
    "    c.CustomerName\n",
    "    ,round(sum(s.Quantity*s.UnitPrice),2) as TotalSales\n",
    "    \n",
    "from \n",
    "    sales_schema.Dim_Customer c \n",
    "    left join sales_schema.Fact_Sales s\n",
    "    on c.CustomerID = s.CustomerID\n",
    "where year(s.OrderDate) = 2021\n",
    "group by c.CustomerName\n",
    "order by 2 desc\n"
   ]
  },
  {
   "cell_type": "markdown",
   "id": "8566bd50-33a1-45a1-9aca-05edb7594036",
   "metadata": {},
   "source": [
    "<img src=\"table 4.png\" width=500>"
   ]
  },
  {
   "cell_type": "markdown",
   "id": "b4fd6835-39cb-4d7d-886d-158cc8e1cb22",
   "metadata": {},
   "source": [
    "<img src=\"chart 1.png\" width=1500>"
   ]
  },
  {
   "cell_type": "code",
   "execution_count": 49,
   "id": "841d7bf7-9572-498b-b4fa-a5549ff15715",
   "metadata": {
    "microsoft": {
     "language": "sql",
     "language_group": "sqldatawarehouse"
    },
    "sqlDWViewState": {
     "chartOptions": {
      "aggregationType": "sum",
      "binsNumber": 10,
      "categoryFieldKeys": [
       "1"
      ],
      "chartType": "bar",
      "isStacked": false,
      "seriesFieldKeys": [
       "1"
      ],
      "wordFrequency": "-1"
     },
     "tableOptions": {},
     "viewOptionsGroup": [
      {
       "tabItems": [
        {
         "key": "0",
         "name": "Table",
         "options": {},
         "type": "table"
        },
        {
         "key": "2-jwwl",
         "name": "Chart 2",
         "options": {
          "aggregationType": "sum",
          "binsNumber": 10,
          "categoryFieldKeys": [
           "0"
          ],
          "chartType": "bar",
          "isStacked": true,
          "pivotFieldKey": "0",
          "seriesFieldKeys": [
           "1"
          ],
          "showDataLabels": true,
          "subtitle": "Description of the chart",
          "theme": "classic",
          "title": " TotalSales by Item",
          "wordFrequency": "-1"
         },
         "type": "chart"
        }
       ]
      }
     ]
    }
   },
   "outputs": [
    {
     "data": {
      "application/vnd.sqldw.statement-meta+json": {
       "batch_id": "fa3a64f6-9fcf-4a79-b672-a9f33b141b0b@b82418bf-3d34-4eec-8521-2ceda83c199a$2025-02-12T10:00:42.3508616Z@3014af09-9b6b-4f78-9711-890aecb9a328",
       "commands": [
        {
         "$type": "ExecuteSqlTrackedCommand",
         "clientAppName": "Notebook",
         "queryMaxRows": 10000,
         "schemaOnly": false,
         "sqlScript": "--  **Write a SQL query to retrieve the total sales per product for the year 2021, ensuring the data is grouped by product name and ordered from highest to lowest sales.**\nselect top 5\ni.ItemName\n,round(sum(s.Quantity * s.UnitPrice),2) as TotalSales\n\nfrom  sales_schema.Dim_Item i \nleft join sales_schema.Fact_Sales s\non i.ItemID = s.ItemID\ngroup by i.ItemName\norder by 2 desc\n"
        }
       ],
       "created_at": "2025-02-12T10:00:42.3508616Z",
       "end_date_time_utc": "2025-02-12T10:00:48.5015547Z",
       "is_cancel": false,
       "root_activity_id": "7412d120-aab8-4f9b-afe6-38eabef8636a",
       "session_id": "905c6439-b8f4-408b-bfcc-0b949019206a",
       "sqldw_state": "success",
       "start_date_time_utc": "2025-02-12T10:00:42.2541281Z",
       "updated_at": "2025-02-12T10:00:48.4134068Z"
      }
     },
     "metadata": {},
     "output_type": "display_data"
    },
    {
     "data": {
      "application/vnd.sqldw.statement-message+json": {
       "end_date_time_utc": "2025-02-12T10:00:48.5015547Z",
       "message_list": [
        {
         "$type": null,
         "data": null,
         "exceptionMessage": null,
         "executeSqlState": "success",
         "recordsAffected": 0,
         "resultType": "infoMessage",
         "schema": null,
         "sqlWarnings": [
          {
           "messageText": "Statement ID: {7F736836-D2C8-4832-A59A-F3EC2BF7A21B} | Query hash: 0xCFB5BF8BB6EDF1EF | Distributed request ID: {214C26E0-5EA7-4D40-86BC-4B9FB8A0BE67}",
           "messageType": 1,
           "sqlErrorClass": 0,
           "sqlErrorLineNumber": null,
           "sqlErrorNumber": 15806,
           "sqlErrorState": 1
          }
         ]
        },
        {
         "$type": null,
         "data": null,
         "exceptionMessage": null,
         "executeSqlState": "success",
         "recordsAffected": 5,
         "resultType": "statementCompletedMessage",
         "schema": null
        },
        {
         "$type": null,
         "data": null,
         "durationMilliseconds": 5717,
         "exceptionMessage": null,
         "executeSqlState": "success",
         "recordsAffected": 0,
         "resultType": "queryDurationMessage",
         "schema": null
        }
       ],
       "start_date_time_utc": "2025-02-12T10:00:42.2541281Z"
      }
     },
     "metadata": {},
     "output_type": "display_data"
    },
    {
     "data": {
      "application/vnd.sqldw.statement-result+json": {
       "result_list": [
        {
         "$type": null,
         "data": [
          [
           "Mountain-200 Black, 46",
           "718987.58"
          ],
          [
           "Mountain-200 Silver, 46",
           "687794.17"
          ],
          [
           "Mountain-200 Black, 38",
           "668006.02"
          ],
          [
           "Mountain-200 Black, 42",
           "647760.93"
          ],
          [
           "Mountain-200 Silver, 38",
           "641145.8"
          ]
         ],
         "exceptionMessage": null,
         "executeSqlState": "success",
         "recordsAffected": 5,
         "resultType": "query",
         "schema": [
          {
           "columnName": "ItemName",
           "dataTypeName": "varchar",
           "ordinal": 0
          },
          {
           "columnName": "TotalSales",
           "dataTypeName": "float",
           "ordinal": 1
          }
         ],
         "truncatedRows": false
        }
       ]
      }
     },
     "metadata": {},
     "output_type": "display_data"
    }
   ],
   "source": [
    "%%sql\n",
    "-- Write a SQL query to retrieve the total sales per product for the year 2021,\n",
    "-- ensuring the data is grouped by product name and ordered from highest to lowest sales.\n",
    "select top 5\n",
    "i.ItemName\n",
    ",round(sum(s.Quantity * s.UnitPrice),2) as TotalSales\n",
    "\n",
    "from  sales_schema.Dim_Item i \n",
    "left join sales_schema.Fact_Sales s\n",
    "on i.ItemID = s.ItemID\n",
    "group by i.ItemName\n",
    "order by 2 desc\n"
   ]
  },
  {
   "cell_type": "markdown",
   "id": "edf644be-9f44-4067-979a-56b2fd81e6df",
   "metadata": {},
   "source": [
    "<img src=\"table 5.png\" width=500>"
   ]
  },
  {
   "cell_type": "markdown",
   "id": "a36d5af3-7ad7-447c-9095-de5ae3973ae0",
   "metadata": {},
   "source": [
    "<img src=\"chart 2.png\" width=1500>"
   ]
  },
  {
   "cell_type": "code",
   "execution_count": 53,
   "id": "2a8d6a21-2a10-44ca-bdb6-96cb00c9d7aa",
   "metadata": {
    "microsoft": {
     "language": "sql",
     "language_group": "sqldatawarehouse"
    },
    "sqlDWViewState": {
     "chartOptions": {
      "aggregationType": "sum",
      "binsNumber": 10,
      "categoryFieldKeys": [
       "2"
      ],
      "chartType": "bar",
      "isStacked": false,
      "seriesFieldKeys": [
       "2"
      ],
      "wordFrequency": "-1"
     },
     "tableOptions": {},
     "viewOptionsGroup": [
      {
       "tabItems": [
        {
         "key": "0",
         "name": "Table",
         "options": {},
         "type": "table"
        },
        {
         "key": "2-14yt",
         "name": "Chart 2",
         "options": {
          "aggregationType": "sum",
          "binsNumber": 10,
          "categoryFieldKeys": [
           "0"
          ],
          "chartType": "pie",
          "isStacked": false,
          "seriesFieldKeys": [
           "2"
          ],
          "showDataLabels": true,
          "subtitle": "Description of the chart",
          "theme": "classic",
          "title": "TotalSales by Item Category",
          "wordFrequency": "-1"
         },
         "type": "chart"
        }
       ]
      }
     ]
    }
   },
   "outputs": [
    {
     "data": {
      "application/vnd.sqldw.statement-meta+json": {
       "batch_id": "fa3a64f6-9fcf-4a79-b672-a9f33b141b0b@b82418bf-3d34-4eec-8521-2ceda83c199a$2025-02-12T10:09:17.9200881Z@8e055bf7-43d8-4ed7-b1c0-b2d204be6c3c",
       "commands": [
        {
         "$type": "ExecuteSqlTrackedCommand",
         "clientAppName": "Notebook",
         "queryMaxRows": 10000,
         "schemaOnly": false,
         "sqlScript": "-- **Write a SQL query to identify the top customer in terms of total sales for each product category (Helmet, Bike, Gloves) in the year 2021. Ensure the results include the category, customer name, and total sales, ordered from highest to lowest sales.**\n WITH CategorizedSales AS (\n SELECT\n     CASE\n         WHEN i.ItemName LIKE '%Helmet%' THEN 'Helmet'\n         WHEN i.ItemName LIKE '%Bike%' THEN 'Bike'\n         WHEN i.ItemName LIKE '%Gloves%' THEN 'Gloves'\n         ELSE 'Other'\n     END AS Category,\n     c.CustomerName,\n     s.UnitPrice * s.Quantity AS Sales\n FROM sales_schema.Fact_Sales s\n JOIN sales_schema.Dim_Customer c\n ON s.CustomerID = c.CustomerID\n JOIN sales_schema.Dim_Item i\n ON s.ItemID = i.ItemID\n WHERE YEAR(s.OrderDate) = 2021\n ),\n RankedSales AS (\n     SELECT\n         Category,\n         CustomerName,\n         SUM(Sales) AS TotalSales,\n         ROW_NUMBER() OVER (PARTITION BY Category ORDER BY SUM(Sales) DESC) AS SalesRank\n     FROM CategorizedSales\n     WHERE Category IN ('Helmet', 'Bike', 'Gloves')\n     GROUP BY Category, CustomerName\n )\n SELECT Category, CustomerName, TotalSales\n FROM RankedSales\n WHERE SalesRank = 1\n ORDER BY TotalSales DESC;"
        }
       ],
       "created_at": "2025-02-12T10:09:17.9200881Z",
       "end_date_time_utc": "2025-02-12T10:09:22.61275Z",
       "is_cancel": false,
       "root_activity_id": "c25583f0-922c-483e-9c99-8449ea15b57c",
       "session_id": "905c6439-b8f4-408b-bfcc-0b949019206a",
       "sqldw_state": "success",
       "start_date_time_utc": "2025-02-12T10:09:17.8486109Z",
       "updated_at": "2025-02-12T10:09:21.7638893Z"
      }
     },
     "metadata": {},
     "output_type": "display_data"
    },
    {
     "data": {
      "application/vnd.sqldw.statement-message+json": {
       "end_date_time_utc": "2025-02-12T10:09:22.61275Z",
       "message_list": [
        {
         "$type": null,
         "data": null,
         "exceptionMessage": null,
         "executeSqlState": "success",
         "recordsAffected": 0,
         "resultType": "infoMessage",
         "schema": null,
         "sqlWarnings": [
          {
           "messageText": "Statement ID: {B7C69679-CDF3-4D22-9FCD-43E8FC73A211} | Query hash: 0xA4875035D4AD4B86 | Distributed request ID: {C3EC0AA7-0E12-429F-B1C4-554F19ED8939}",
           "messageType": 1,
           "sqlErrorClass": 0,
           "sqlErrorLineNumber": null,
           "sqlErrorNumber": 15806,
           "sqlErrorState": 1
          }
         ]
        },
        {
         "$type": null,
         "data": null,
         "exceptionMessage": null,
         "executeSqlState": "success",
         "recordsAffected": 3,
         "resultType": "statementCompletedMessage",
         "schema": null
        },
        {
         "$type": null,
         "data": null,
         "durationMilliseconds": 3415,
         "exceptionMessage": null,
         "executeSqlState": "success",
         "recordsAffected": 0,
         "resultType": "queryDurationMessage",
         "schema": null
        }
       ],
       "start_date_time_utc": "2025-02-12T10:09:17.8486109Z"
      }
     },
     "metadata": {},
     "output_type": "display_data"
    },
    {
     "data": {
      "application/vnd.sqldw.statement-result+json": {
       "result_list": [
        {
         "$type": null,
         "data": [
          [
           "Bike",
           "Carson Butler",
           "318"
          ],
          [
           "Helmet",
           "Hailey Patterson",
           "209.94"
          ],
          [
           "Gloves",
           "Joan Coleman",
           "97.96"
          ]
         ],
         "exceptionMessage": null,
         "executeSqlState": "success",
         "recordsAffected": 3,
         "resultType": "query",
         "schema": [
          {
           "columnName": "Category",
           "dataTypeName": "varchar",
           "ordinal": 0
          },
          {
           "columnName": "CustomerName",
           "dataTypeName": "varchar",
           "ordinal": 1
          },
          {
           "columnName": "TotalSales",
           "dataTypeName": "float",
           "ordinal": 2
          }
         ],
         "truncatedRows": false
        }
       ]
      }
     },
     "metadata": {},
     "output_type": "display_data"
    }
   ],
   "source": [
    "%%sql\n",
    "-- Write a SQL query to identify the top customer in terms of total sales for each product category (Helmet, Bike, Gloves) in the year 2021.\n",
    "-- Ensure the results include the category, customer name, and total sales, ordered from highest to lowest sales.\n",
    " WITH CategorizedSales AS (\n",
    " SELECT\n",
    "     CASE\n",
    "         WHEN i.ItemName LIKE '%Helmet%' THEN 'Helmet'\n",
    "         WHEN i.ItemName LIKE '%Bike%' THEN 'Bike'\n",
    "         WHEN i.ItemName LIKE '%Gloves%' THEN 'Gloves'\n",
    "         ELSE 'Other'\n",
    "     END AS Category,\n",
    "     c.CustomerName,\n",
    "     s.UnitPrice * s.Quantity AS Sales\n",
    " FROM sales_schema.Fact_Sales s\n",
    " JOIN sales_schema.Dim_Customer c\n",
    " ON s.CustomerID = c.CustomerID\n",
    " JOIN sales_schema.Dim_Item i\n",
    " ON s.ItemID = i.ItemID\n",
    " WHERE YEAR(s.OrderDate) = 2021\n",
    " ),\n",
    " RankedSales AS (\n",
    "     SELECT\n",
    "         Category,\n",
    "         CustomerName,\n",
    "         SUM(Sales) AS TotalSales,\n",
    "         ROW_NUMBER() OVER (PARTITION BY Category ORDER BY SUM(Sales) DESC) AS SalesRank\n",
    "     FROM CategorizedSales\n",
    "     WHERE Category IN ('Helmet', 'Bike', 'Gloves')\n",
    "     GROUP BY Category, CustomerName\n",
    " )\n",
    " SELECT Category, CustomerName, TotalSales\n",
    " FROM RankedSales\n",
    " WHERE SalesRank = 1\n",
    " ORDER BY TotalSales DESC;"
   ]
  },
  {
   "cell_type": "markdown",
   "id": "b1797287-2417-48b0-9b23-bf63dd96761e",
   "metadata": {},
   "source": [
    "<img src=\"table 6.png\" width=500>"
   ]
  },
  {
   "cell_type": "markdown",
   "id": "ca5ccf17-c19c-42c4-ba02-291ea2976584",
   "metadata": {},
   "source": [
    "<img src=\"chart 3.png\" width=1500>"
   ]
  }
 ],
 "metadata": {
  "dependencies": {
   "warehouse": {
    "default_warehouse": "fa3a64f6-9fcf-4a79-b672-a9f33b141b0b",
    "known_warehouses": [
     {
      "id": "fa3a64f6-9fcf-4a79-b672-a9f33b141b0b",
      "type": "Datawarehouse"
     }
    ]
   }
  },
  "kernel_info": {
   "name": "sqldatawarehouse"
  },
  "kernelspec": {
   "display_name": "Python [conda env:base] *",
   "language": "python",
   "name": "conda-base-py"
  },
  "language_info": {
   "codemirror_mode": {
    "name": "ipython",
    "version": 3
   },
   "file_extension": ".py",
   "mimetype": "text/x-python",
   "name": "python",
   "nbconvert_exporter": "python",
   "pygments_lexer": "ipython3",
   "version": "3.12.3"
  },
  "microsoft": {
   "language": "sql",
   "language_group": "sqldatawarehouse",
   "ms_spell_check": {
    "ms_spell_check_language": "en"
   }
  },
  "nteract": {
   "version": "nteract-front-end@1.0.0"
  },
  "spark_compute": {
   "compute_id": "/trident/default",
   "session_options": {
    "conf": {
     "spark.synapse.nbs.session.timeout": "1200000"
    }
   }
  }
 },
 "nbformat": 4,
 "nbformat_minor": 5
}
